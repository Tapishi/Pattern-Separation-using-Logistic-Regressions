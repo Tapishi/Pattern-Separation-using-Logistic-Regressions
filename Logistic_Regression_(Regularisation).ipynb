{
  "nbformat": 4,
  "nbformat_minor": 0,
  "metadata": {
    "colab": {
      "provenance": [],
      "include_colab_link": true
    },
    "kernelspec": {
      "name": "python3",
      "display_name": "Python 3"
    },
    "language_info": {
      "name": "python"
    }
  },
  "cells": [
    {
      "cell_type": "markdown",
      "metadata": {
        "id": "view-in-github",
        "colab_type": "text"
      },
      "source": [
        "<a href=\"https://colab.research.google.com/github/Tapishi/Pattern-Separation-using-Logistic-Regressions/blob/main/Logistic_Regression_(Regularisation).ipynb\" target=\"_parent\"><img src=\"https://colab.research.google.com/assets/colab-badge.svg\" alt=\"Open In Colab\"/></a>"
      ]
    },
    {
      "cell_type": "code",
      "source": [
        "import cvxpy as cp\n",
        "import numpy as np\n",
        "import matplotlib.pyplot as plt"
      ],
      "metadata": {
        "id": "kEml5fj6J8VS"
      },
      "execution_count": null,
      "outputs": []
    },
    {
      "cell_type": "code",
      "source": [
        "def sigmoid(z):\n",
        "  return 1/(1 + np.exp(-z))"
      ],
      "metadata": {
        "id": "4XT90pXMLRBw"
      },
      "execution_count": null,
      "outputs": []
    },
    {
      "cell_type": "code",
      "source": [
        "## dataset\n",
        "n=100\n",
        "m=100\n",
        "beta_true = np.array([1, 0.5, -0.5] + [0]*(n - 3))\n",
        "print(beta_true.shape)\n",
        "a=np.random.random(1)\n",
        "X = (np.random.random((m, n))-0.5 )*10\n",
        "Y = np.round(sigmoid(X@beta_true+a  + np.random.randn(m)*0.5))\n",
        "\n",
        "X_test = (np.random.random((2*m, n))-0.5 )*10\n",
        "Y_test = np.round(sigmoid(X_test @ beta_true +a+ np.random.randn(2*m)*0.5))"
      ],
      "metadata": {
        "colab": {
          "base_uri": "https://localhost:8080/"
        },
        "id": "QH_l9l4kKLMI",
        "outputId": "cec9b522-bc61-452a-bf7d-3dfb987b326c"
      },
      "execution_count": null,
      "outputs": [
        {
          "output_type": "stream",
          "name": "stdout",
          "text": [
            "(100,)\n"
          ]
        }
      ]
    },
    {
      "cell_type": "code",
      "source": [
        "\n",
        "def error(scores, labels):\n",
        "  scores[scores > 0] = 1\n",
        "  scores[scores <= 0] = 0\n",
        "  return np.sum(np.abs(scores - labels)) / float(np.size(labels))"
      ],
      "metadata": {
        "id": "NL9hhhGlsYks"
      },
      "execution_count": null,
      "outputs": []
    },
    {
      "cell_type": "code",
      "source": [
        "beta=cp.Variable((n))\n",
        "b=cp.Variable(1)\n",
        "log_likelihood = cp.sum(cp.multiply(Y, X @ beta+b) - cp.logistic(X @ beta+b))\n",
        "problem = cp.Problem(cp.Maximize(log_likelihood/m ))\n",
        "problem.solve()\n",
        "beta=beta.value\n",
        "b=b.value\n",
        "\n",
        "train_error_lm = error( (X @ beta+b), Y)\n",
        "test_error_lm = error( (X_test @ beta+b), Y_test)"
      ],
      "metadata": {
        "id": "8N07tN_vzmFI"
      },
      "execution_count": null,
      "outputs": []
    },
    {
      "cell_type": "code",
      "source": [
        "print(train_error_lm)\n",
        "print(test_error_lm)"
      ],
      "metadata": {
        "id": "KSexoP7Fo10v",
        "outputId": "ffb71371-54f4-4cc3-b842-f9ea999c513e",
        "colab": {
          "base_uri": "https://localhost:8080/"
        }
      },
      "execution_count": null,
      "outputs": [
        {
          "output_type": "stream",
          "name": "stdout",
          "text": [
            "0.0\n",
            "0.37\n"
          ]
        }
      ]
    },
    {
      "cell_type": "markdown",
      "source": [
        "In case of High Dimensional data, the training error is very low but the test error is significatnly higher which is an indicaiton of over fitting."
      ],
      "metadata": {
        "id": "kWmxPIJSjzCE"
      }
    },
    {
      "cell_type": "markdown",
      "source": [
        "Using Regularisation"
      ],
      "metadata": {
        "id": "mCEGxtrg3pJZ"
      }
    },
    {
      "cell_type": "code",
      "source": [
        "beta = cp.Variable(n)\n",
        "b=cp.Variable(1)\n",
        "log_likelihood = cp.sum(cp.multiply(Y, X @ beta+b) - cp.logistic(X @ beta+b))\n",
        "intervals=100\n",
        "train_error = []\n",
        "test_error = []\n",
        "lambda_vals = np.logspace(-2, 5, intervals)\n",
        "beta_vals = []\n",
        "b_vals=[]\n",
        "for i in range(intervals):\n",
        "    lamb=lambda_vals\n",
        "    obj=cp.Maximize(log_likelihood/m - lamb[i] * cp.norm(beta, 1))\n",
        "    problem = cp.Problem(obj)\n",
        "    problem.solve()\n",
        "    train_error.append(error( (X @ beta+b).value, Y))\n",
        "    test_error.append(error( (X_test @ beta+b).value, Y_test))\n",
        "    beta_vals.append(beta.value)\n",
        "    b_vals.append(b.value)"
      ],
      "metadata": {
        "id": "P-LaGGE-u3yi"
      },
      "execution_count": null,
      "outputs": []
    },
    {
      "cell_type": "code",
      "source": [
        "plt.plot(lambda_vals, train_error, label=\"Train error\")\n",
        "plt.plot(lambda_vals, test_error, label=\"Test error\")\n",
        "plt.xscale(\"log\")\n",
        "plt.legend(loc=\"upper left\")\n",
        "plt.xlabel(r\"$\\lambda$\", fontsize=16)\n",
        "plt.show()"
      ],
      "metadata": {
        "colab": {
          "base_uri": "https://localhost:8080/",
          "height": 289
        },
        "id": "A0Gps_ERz6J0",
        "outputId": "cb6b13c9-2dcb-4044-e09b-2a88d9b03d1e"
      },
      "execution_count": null,
      "outputs": [
        {
          "output_type": "display_data",
          "data": {
            "text/plain": [
              "<Figure size 432x288 with 1 Axes>"
            ],
            "image/png": "[encoded data removed]"
          },
          "metadata": {
            "needs_background": "light"
          }
        }
      ]
    },
    {
      "cell_type": "code",
      "source": [
        "t=test_error\n",
        "aa=t.index(min(t))\n",
        "print(lambda_vals[aa])\n",
        "print(aa)"
      ],
      "metadata": {
        "colab": {
          "base_uri": "https://localhost:8080/"
        },
        "id": "JkhpPDyq1msK",
        "outputId": "a5ecf56d-8af3-4985-dc86-c77b6d992482"
      },
      "execution_count": null,
      "outputs": [
        {
          "output_type": "stream",
          "name": "stdout",
          "text": [
            "0.09770099572992251\n",
            "14\n"
          ]
        }
      ]
    },
    {
      "cell_type": "code",
      "source": [
        "print(train_error[aa])\n",
        "print(test_error[aa])"
      ],
      "metadata": {
        "colab": {
          "base_uri": "https://localhost:8080/"
        },
        "id": "_3TBkZhb3f0Z",
        "outputId": "9487d8d5-69be-41b6-d73e-a8c8983ab0b0"
      },
      "execution_count": null,
      "outputs": [
        {
          "output_type": "stream",
          "name": "stdout",
          "text": [
            "0.03\n",
            "0.08\n"
          ]
        }
      ]
    },
    {
      "cell_type": "code",
      "source": [
        "normbeta=[]\n",
        "l=[]\n",
        "for j in range(0,len(beta_vals)):\n",
        "  normbeta.append(np.sqrt((np.linalg.norm(beta_true-beta_vals[j]))**2+(a-b_vals[j])**2))\n",
        "  l.append(j)"
      ],
      "metadata": {
        "id": "R80afXvc58ih"
      },
      "execution_count": null,
      "outputs": []
    },
    {
      "cell_type": "code",
      "source": [
        "plt.plot(l,normbeta, label=r\"Norm of difference in values for choices of $\\lambda$\")\n",
        "plt.xlabel(r\"$i$\", fontsize=16)\n",
        "plt.ylabel(r\"$\\beta_i$\", fontsize=16)\n",
        "plt.legend(loc=\"upper right\")\n",
        "plt.show()"
      ],
      "metadata": {
        "colab": {
          "base_uri": "https://localhost:8080/",
          "height": 302
        },
        "id": "rqYIwg5n2mgH",
        "outputId": "7e6be7ef-98e1-4020-9865-1a0cf59455a5"
      },
      "execution_count": null,
      "outputs": [
        {
          "output_type": "execute_result",
          "data": {
            "text/plain": [
              "<matplotlib.legend.Legend at 0x7f1eaab6fa10>"
            ]
          },
          "metadata": {},
          "execution_count": 12
        },
        {
          "output_type": "display_data",
          "data": {
            "text/plain": [
              "<Figure size 432x288 with 1 Axes>"
            ],
            "image/png": "[encoded data removed]"
          },
          "metadata": {
            "needs_background": "light"
          }
        }
      ]
    },
    {
      "cell_type": "markdown",
      "source": [
        "The above is a reasonable choice for lambda as it minimises the test error"
      ],
      "metadata": {
        "id": "HhqnmOrD2WOQ"
      }
    }
  ]
}