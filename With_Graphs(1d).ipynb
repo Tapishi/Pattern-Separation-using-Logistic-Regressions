{
  "nbformat": 4,
  "nbformat_minor": 0,
  "metadata": {
    "colab": {
      "provenance": [],
      "include_colab_link": true
    },
    "kernelspec": {
      "name": "python3",
      "display_name": "Python 3"
    },
    "language_info": {
      "name": "python"
    }
  },
  "cells": [
    {
      "cell_type": "markdown",
      "metadata": {
        "id": "view-in-github",
        "colab_type": "text"
      },
      "source": [
        "<a href=\"https://colab.research.google.com/github/Tapishi/Pattern-Separation-using-Logistic-Regressions/blob/main/With_Graphs(1d).ipynb\" target=\"_parent\"><img src=\"https://colab.research.google.com/assets/colab-badge.svg\" alt=\"Open In Colab\"/></a>"
      ]
    },
    {
      "cell_type": "code",
      "source": [
        "import cvxpy as cp\n",
        "import numpy as np\n",
        "import matplotlib.pyplot as plt"
      ],
      "metadata": {
        "id": "kEml5fj6J8VS"
      },
      "execution_count": null,
      "outputs": []
    },
    {
      "cell_type": "code",
      "source": [
        "def sigmoid(z):\n",
        "  return 1/(1 + np.exp(-z))"
      ],
      "metadata": {
        "id": "4XT90pXMLRBw"
      },
      "execution_count": null,
      "outputs": []
    },
    {
      "cell_type": "code",
      "source": [
        "## dataset\n",
        "n=1# dimensions\n",
        "m=100 # number of data points\n",
        "beta_true = np.array([ 0.5] ) # original value of beta chosen\n",
        "print(beta_true.shape)\n",
        "a=np.random.random(1) # bias\n",
        "X = (np.random.random((m, n))-0.5 )*10\n",
        "Y = np.round(sigmoid(X@beta_true+a  + np.random.randn(m)*0.5)) # labels\n",
        "\n",
        "X_test = (np.random.random((2*m, n))-0.5 )*10 # generating test data\n",
        "Y_test = np.round(sigmoid(X_test @ beta_true +a+ np.random.randn(2*m)*0.5)) # labels of test data"
      ],
      "metadata": {
        "colab": {
          "base_uri": "https://localhost:8080/"
        },
        "id": "QH_l9l4kKLMI",
        "outputId": "01584534-1cb4-4305-b9fc-713d39721d04"
      },
      "execution_count": null,
      "outputs": [
        {
          "output_type": "stream",
          "name": "stdout",
          "text": [
            "(1,)\n"
          ]
        }
      ]
    },
    {
      "cell_type": "code",
      "source": [
        "def error(scores, labels):\n",
        "  scores[scores > 0] = 1\n",
        "  scores[scores <= 0] = 0\n",
        "\n",
        "  return np.sum(np.abs(scores - labels)) / float(np.size(labels))"
      ],
      "metadata": {
        "id": "NL9hhhGlsYks"
      },
      "execution_count": null,
      "outputs": []
    },
    {
      "cell_type": "code",
      "source": [
        "beta=cp.Variable((n))\n",
        "b=cp.Variable(1)\n",
        "print((X@beta).shape)\n",
        "log_likelihood = cp.sum(cp.multiply(Y, X @ beta+b) - cp.logistic(X @ beta+b))\n",
        "problem = cp.Problem(cp.Maximize(log_likelihood/m ))\n",
        "problem.solve()\n",
        "beta=beta.value\n",
        "b=b.value\n",
        "train_error_lm = error( (X @ beta+b), Y)\n",
        "test_error_lm = error( (X_test @ beta+b), Y_test)"
      ],
      "metadata": {
        "colab": {
          "base_uri": "https://localhost:8080/"
        },
        "id": "8N07tN_vzmFI",
        "outputId": "96664c71-e2d4-48f3-fe4c-53e7d0ea55b2"
      },
      "execution_count": null,
      "outputs": [
        {
          "output_type": "stream",
          "name": "stdout",
          "text": [
            "(100,)\n"
          ]
        }
      ]
    },
    {
      "cell_type": "code",
      "source": [
        "print(train_error_lm)\n",
        "print(test_error_lm)"
      ],
      "metadata": {
        "colab": {
          "base_uri": "https://localhost:8080/"
        },
        "id": "KSexoP7Fo10v",
        "outputId": "c6b77dbe-3a6a-4039-ce8a-2bdb21dad4be"
      },
      "execution_count": null,
      "outputs": [
        {
          "output_type": "stream",
          "name": "stdout",
          "text": [
            "0.06\n",
            "0.085\n"
          ]
        }
      ]
    },
    {
      "cell_type": "code",
      "source": [
        "one=[]\n",
        "zero=[]\n",
        "for i in range(0,len(X)):\n",
        "  if Y[i]==1:\n",
        "    one.append(X[i])\n",
        "  else:\n",
        "    zero.append(X[i])"
      ],
      "metadata": {
        "id": "arDZ76nltJmI"
      },
      "execution_count": null,
      "outputs": []
    },
    {
      "cell_type": "code",
      "source": [
        "one=np.array(one)\n",
        "zero=np.array(zero)"
      ],
      "metadata": {
        "id": "1ZEDe5wcta1m"
      },
      "execution_count": null,
      "outputs": []
    },
    {
      "cell_type": "code",
      "source": [
        "plt.scatter(one, [1]*len(one), c=\"red\", label=\"one\")\n",
        "plt.scatter(zero, [0]*len(zero), c=\"blue\", label=\"zero\")\n",
        "z=np.sort(X.ravel())\n",
        "y=[]\n",
        "for i in range(0,len(z)):\n",
        "  if sigmoid(z[i]*beta+b)>=0.5:\n",
        "    y.append(1)\n",
        "  else:\n",
        "    y.append(0)\n",
        "plt.plot(z,sigmoid(z*beta+b))\n",
        "plt.legend()\n",
        "plt.show()"
      ],
      "metadata": {
        "colab": {
          "base_uri": "https://localhost:8080/",
          "height": 265
        },
        "id": "I5i49BSuvA9g",
        "outputId": "6e9d125b-3d67-4e70-e6c2-09fd1f5686b2"
      },
      "execution_count": null,
      "outputs": [
        {
          "output_type": "display_data",
          "data": {
            "text/plain": [
              "<Figure size 432x288 with 1 Axes>"
            ],
            "image/png": "[encoded data removed]"
          },
          "metadata": {
            "needs_background": "light"
          }
        }
      ]
    },
    {
      "cell_type": "code",
      "source": [
        "plt.scatter(one, [1]*len(one), c=\"red\", label=\"one\")\n",
        "plt.scatter(zero, [0]*len(zero), c=\"blue\", label=\"zero\")\n",
        "print(beta)\n",
        "z=np.sort(X.ravel())\n",
        "plt.plot(z,sigmoid(z*beta+b))\n",
        "plt.plot(z,(z*beta+b))\n",
        "plt.legend()\n",
        "plt.show()"
      ],
      "metadata": {
        "colab": {
          "base_uri": "https://localhost:8080/",
          "height": 286
        },
        "id": "JiVSCLNg4hFl",
        "outputId": "7fe1a5ad-5efe-49de-9266-70ca25667c20"
      },
      "execution_count": null,
      "outputs": [
        {
          "output_type": "stream",
          "name": "stdout",
          "text": [
            "[2.0941939]\n"
          ]
        },
        {
          "output_type": "display_data",
          "data": {
            "text/plain": [
              "<Figure size 432x288 with 1 Axes>"
            ],
            "image/png": "[encoded data removed]"
          },
          "metadata": {
            "needs_background": "light"
          }
        }
      ]
    },
    {
      "cell_type": "markdown",
      "source": [
        "TEST POINTS"
      ],
      "metadata": {
        "id": "OSZAfd7ji3BB"
      }
    },
    {
      "cell_type": "code",
      "source": [
        "onet=[]\n",
        "zerot=[]\n",
        "for i in range(0,len(X_test)):\n",
        "  if Y_test[i]==1:\n",
        "    onet.append(X_test[i])\n",
        "  else:\n",
        "    zerot.append(X_test[i])\n",
        "onet=np.array(onet)\n",
        "zerot=np.array(zerot)"
      ],
      "metadata": {
        "id": "pRlSxfP95eXG"
      },
      "execution_count": null,
      "outputs": []
    },
    {
      "cell_type": "code",
      "source": [
        "plt.scatter(onet, [1]*len(onet), c=\"red\", label=\"one\")\n",
        "plt.scatter(zerot, [0]*len(zerot), c=\"blue\", label=\"zero\")\n",
        "print(beta)\n",
        "zt=np.sort(X_test.ravel())\n",
        "yt=[]\n",
        "for i in range(0,len(zt)):\n",
        "  if sigmoid(zt[i]*beta+b)>=0.5:\n",
        "    yt.append(1)\n",
        "  else:\n",
        "    yt.append(0)\n",
        "plt.plot(zt,sigmoid(zt*beta+b))\n",
        "plt.legend()\n",
        "plt.show()"
      ],
      "metadata": {
        "id": "HdHdL8_5ASUW",
        "outputId": "bcef862f-0aee-4e2d-bac6-0a95115f1e4c",
        "colab": {
          "base_uri": "https://localhost:8080/",
          "height": 282
        }
      },
      "execution_count": null,
      "outputs": [
        {
          "output_type": "stream",
          "name": "stdout",
          "text": [
            "[2.0941939]\n"
          ]
        },
        {
          "output_type": "display_data",
          "data": {
            "text/plain": [
              "<Figure size 432x288 with 1 Axes>"
            ],
            "image/png": "[encoded data removed]"
          },
          "metadata": {
            "needs_background": "light"
          }
        }
      ]
    },
    {
      "cell_type": "code",
      "source": [
        "plt.scatter(onet, [1]*len(onet), c=\"red\", label=\"one\")\n",
        "plt.scatter(zerot, [0]*len(zerot), c=\"blue\", label=\"zero\")\n",
        "print(beta)\n",
        "zt=np.sort(X_test.ravel())\n",
        "plt.plot(zt,sigmoid(zt*beta+b))\n",
        "plt.plot(zt,(zt*beta+b))\n",
        "\n",
        "plt.legend()\n",
        "plt.show()"
      ],
      "metadata": {
        "colab": {
          "base_uri": "https://localhost:8080/",
          "height": 282
        },
        "id": "1L-Oqk1T9Mcx",
        "outputId": "e85d107e-50e5-4ff1-f4ac-5b8f5036ba8e"
      },
      "execution_count": null,
      "outputs": [
        {
          "output_type": "stream",
          "name": "stdout",
          "text": [
            "[2.0941939]\n"
          ]
        },
        {
          "output_type": "display_data",
          "data": {
            "text/plain": [
              "<Figure size 432x288 with 1 Axes>"
            ],
            "image/png": "[encoded data removed]"
          },
          "metadata": {
            "needs_background": "light"
          }
        }
      ]
    },
    {
      "cell_type": "code",
      "source": [
        "alpha=cp.Variable((n))\n",
        "a=cp.Variable(1)\n",
        "constraints=[cp.norm(a)<=1]\n",
        "t=cp.Variable(1)\n",
        "for i in range(0,n):\n",
        "  constraints+=[a.T@one[i]-b >=t]\n",
        "for i in range(0,n):\n",
        "  constraints+=[a.T@zero[i]-b <=-t]\n",
        "\n",
        "obj=cp.Maximize(t)\n",
        "prob = cp.Problem(obj,constraints)\n",
        "prob.solve(verbose=True)\n",
        "alpha=alpha.value\n",
        "a=a.value\n",
        "print(alpha)"
      ],
      "metadata": {
        "colab": {
          "base_uri": "https://localhost:8080/"
        },
        "id": "Lk4T993DeBsN",
        "outputId": "f3e74ec4-84f6-41e1-f2c3-0547beef660e"
      },
      "execution_count": null,
      "outputs": [
        {
          "output_type": "stream",
          "name": "stdout",
          "text": [
            "None\n"
          ]
        }
      ]
    },
    {
      "cell_type": "markdown",
      "source": [
        "As we can see above, we cannot find a plane that perfectly separates the two sets of points. Hence, we try to use logistic regression and linear discrimination via logistic modelling."
      ],
      "metadata": {
        "id": "kWmxPIJSjzCE"
      }
    }
  ]
}